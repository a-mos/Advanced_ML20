{
 "cells": [
  {
   "cell_type": "markdown",
   "metadata": {},
   "source": [
    "### Что необходимо сделать: реализовать один из алгоритмов машинного обучения, являющегося композицией алгоритмов.\n",
    "Москаленко Андрей"
   ]
  },
  {
   "cell_type": "markdown",
   "metadata": {},
   "source": [
    "### Вариант 21"
   ]
  },
  {
   "cell_type": "code",
   "execution_count": 1,
   "metadata": {},
   "outputs": [],
   "source": [
    "import re\n",
    "import numpy as np\n",
    "import cupy as cp\n",
    "import scipy\n",
    "import pandas as pd\n",
    "import matplotlib.pyplot as plt\n",
    "import tensorflow as tf\n",
    "from tensorflow import keras\n",
    "import sklearn.metrics"
   ]
  },
  {
   "cell_type": "code",
   "execution_count": 2,
   "metadata": {},
   "outputs": [],
   "source": [
    "import tqdm.notebook\n",
    "from joblib import Parallel, delayed"
   ]
  },
  {
   "cell_type": "code",
   "execution_count": 3,
   "metadata": {},
   "outputs": [],
   "source": [
    "lines = []\n",
    "with open('./reg.train.txt', 'r') as f:\n",
    "    lines = f.readlines()\n",
    "lines = list(map(lambda x: re.split(':| ', x.strip()), lines))\n",
    "X_train = np.full((7200, 245), 0.0)\n",
    "y_train = np.zeros((7200))\n",
    "for i in range(len(lines)):\n",
    "    y_train[i] = float(lines[i][0])\n",
    "    for j in range(1, len(lines[i]), 2):\n",
    "        X_train[i, int(lines[i][j]) - 1] = float(lines[i][j + 1])\n",
    "X_train = np.nan_to_num(X_train)"
   ]
  },
  {
   "cell_type": "code",
   "execution_count": 4,
   "metadata": {},
   "outputs": [],
   "source": [
    "lines = []\n",
    "with open('./reg.test.txt', 'r') as f:\n",
    "    lines = f.readlines()\n",
    "lines = list(map(lambda x: re.split(':| ', x.strip()), lines))\n",
    "X_test = np.full((10050, 245), 0.0)\n",
    "y_test = np.zeros((10050))\n",
    "for i in range(len(lines)):\n",
    "    y_test[i] = float(lines[i][0])\n",
    "    for j in range(1, len(lines[i]), 2):\n",
    "        X_test[i, int(lines[i][j]) - 1] = float(lines[i][j + 1])\n",
    "X_test = np.nan_to_num(X_test)"
   ]
  },
  {
   "cell_type": "code",
   "execution_count": 5,
   "metadata": {},
   "outputs": [],
   "source": [
    "path_index = -1\n",
    "\n",
    "class Node:\n",
    "    def __init__(self, x, y, idxs, min_leaf=5, depth=1, max_features=15):\n",
    "        global path_index\n",
    "        path_index += 1\n",
    "        self.path_index = path_index\n",
    "        self.depth=depth\n",
    "        self.x = x\n",
    "        self.y = y\n",
    "        self.idxs = idxs\n",
    "        self.y_idx = y[self.idxs]\n",
    "        self.min_leaf = min_leaf\n",
    "        self.row_count = len(idxs)\n",
    "        self.col_count = x.shape[1]\n",
    "        self.val = np.mean(y[idxs])\n",
    "        self.score = float('inf')\n",
    "        self.max_features = max_features\n",
    "        self.find_varsplit()\n",
    "\n",
    "    def find_varsplit(self):\n",
    "        if self.depth != 0:\n",
    "            while True:\n",
    "                random_features = np.random.choice(list(range(self.col_count)), self.max_features)\n",
    "                splits = Parallel(n_jobs=16)(delayed(self.find_better_split)(c) for c in random_features)\n",
    "                splits = np.array(splits)\n",
    "                best_id = np.argsort(splits[:, 0])[0]\n",
    "                self.score = splits[best_id][0]\n",
    "                if not self.is_leaf:\n",
    "                    break\n",
    "            self.split = splits[best_id][1]\n",
    "            self.var_idx = int(splits[best_id][2])\n",
    "            if self.is_leaf:\n",
    "                return\n",
    "            x = self.x[self.idxs, self.var_idx]\n",
    "            lhs = np.nonzero(x <= self.split)[0]\n",
    "            rhs = np.nonzero(x > self.split)[0]\n",
    "            self.lhs = Node(self.x, self.y, self.idxs[lhs], self.min_leaf, self.depth - 1, self.max_features)\n",
    "            self.rhs = Node(self.x, self.y, self.idxs[rhs], self.min_leaf, self.depth - 1, self.max_features)\n",
    "\n",
    "    def find_better_split(self, var_idx):\n",
    "        x = self.x[self.idxs, var_idx]\n",
    "        best_score = 99999999999999\n",
    "        best_split = 0\n",
    "        for r in range(self.row_count):\n",
    "            lhs = x <= x[r]\n",
    "            rhs = x > x[r]\n",
    "            if rhs.sum() < self.min_leaf or lhs.sum() < self.min_leaf: \n",
    "                continue\n",
    "            curr_score = self.find_score(lhs, rhs)\n",
    "            if curr_score < best_score:\n",
    "                best_score = curr_score\n",
    "                best_split = x[r]\n",
    "        return [best_score, best_split, var_idx]\n",
    "\n",
    "    def find_score(self, lhs, rhs):\n",
    "        return ((self.y_idx[lhs] - self.y_idx[lhs].mean()) ** 2).sum() + \\\n",
    "               ((self.y_idx[rhs] - self.y_idx[rhs].mean()) ** 2).sum()\n",
    "\n",
    "    @property\n",
    "    def is_leaf(self): \n",
    "        return self.score == float('inf')\n",
    "    \n",
    "    def predict(self, x):\n",
    "        return np.array([self.predict_row(xi) for xi in x])\n",
    "    def predict_row(self, xi):\n",
    "        if self.is_leaf:\n",
    "            return self.val\n",
    "        node = self.lhs if xi[self.var_idx] <= self.split else self.rhs\n",
    "        return node.predict_row(xi)\n",
    "\n",
    "    def apply(self, x):\n",
    "        return np.array([self.apply_row(xi) for xi in x])\n",
    "    def apply_row(self, xi):\n",
    "        if self.is_leaf:\n",
    "            return self.path_index\n",
    "        node = self.lhs if xi[self.var_idx] <= self.split else self.rhs\n",
    "        return node.apply_row(xi)"
   ]
  },
  {
   "cell_type": "code",
   "execution_count": 6,
   "metadata": {},
   "outputs": [],
   "source": [
    "class MyDecisionTreeRegressor:\n",
    "    def __init__(self, min_samples_leaf=1, max_depth=1, max_features=15):\n",
    "        global path_index\n",
    "        path_index = -1\n",
    "        self.min_leaf = min_samples_leaf\n",
    "        self.max_depth = max_depth\n",
    "        self.max_features = max_features\n",
    "    def fit(self, X, y):\n",
    "        self.tree_ = Node(X, y, np.array(np.arange(len(y))), self.min_leaf, self.max_depth, self.max_features)\n",
    "        self.tree_.node_count = 2 ** (self.max_depth + 1) - 1\n",
    "        return self\n",
    "\n",
    "    def apply(self, X):\n",
    "        return self.tree_.apply(X)\n",
    "    \n",
    "    def predict(self, X):\n",
    "        return self.tree_.predict(X)"
   ]
  },
  {
   "cell_type": "markdown",
   "metadata": {},
   "source": [
    "### Hand-written gradient boosting"
   ]
  },
  {
   "cell_type": "code",
   "execution_count": 9,
   "metadata": {},
   "outputs": [],
   "source": [
    "class GradBoost():\n",
    "    def __init__(self, n_trees=128, lr=0.1, min_samples_leaf=1, max_depth=1, max_features=15):\n",
    "        self.n_trees = n_trees\n",
    "        self.lr = lr\n",
    "        self.min_samples_leaf = min_samples_leaf\n",
    "        self.max_depth = max_depth\n",
    "        self.max_features = max_features\n",
    "\n",
    "    def fit(self,X,y):\n",
    "        y = y.reshape(-1, 1)\n",
    "        self.X=X\n",
    "        self.y=y\n",
    "        self.boosted_models = []\n",
    "\n",
    "        ensemble_pred = np.ones(len(y)) * 0\n",
    "        \n",
    "        for i in range(self.n_trees):\n",
    "            model = MyDecisionTreeRegressor(min_samples_leaf=self.min_samples_leaf, max_depth=self.max_depth, max_features=self.max_features)\n",
    "            residuals = np.sum([y, -ensemble_pred.reshape(-1,1)], axis=0)\n",
    "            model.fit(X, residuals)\n",
    "            self.boosted_models.append(model)\n",
    "            ensemble_pred = np.sum([ensemble_pred, self.lr * model.predict(X)], axis=0)\n",
    "\n",
    "    def predict(self, X_test):\n",
    "        pred = np.ones(X_test.shape[0]) * 0\n",
    "        for model in self.boosted_models:\n",
    "            pred = pred + self.lr * model.predict(X_test)\n",
    "        return pred.reshape(-1, 1)"
   ]
  },
  {
   "cell_type": "code",
   "execution_count": 10,
   "metadata": {},
   "outputs": [
    {
     "data": {
      "application/vnd.jupyter.widget-view+json": {
       "model_id": "d9340ad2e6f94da6837de08d12c9b6c2",
       "version_major": 2,
       "version_minor": 0
      },
      "text/plain": [
       "HBox(children=(FloatProgress(value=0.0, max=10.0), HTML(value='')))"
      ]
     },
     "metadata": {},
     "output_type": "display_data"
    },
    {
     "name": "stdout",
     "output_type": "stream",
     "text": [
      "\n"
     ]
    }
   ],
   "source": [
    "from sklearn.ensemble import GradientBoostingRegressor\n",
    "\n",
    "loss = []\n",
    "my_loss = []\n",
    "n_trees = [8, 16, 32, 64, 96, 128, 160, 192, 224, 256]\n",
    "max_features = int(np.sqrt(X_train.shape[1]))\n",
    "\n",
    "loss_train = []\n",
    "my_loss_train = []\n",
    "\n",
    "\n",
    "for n_estimators in tqdm.notebook.tqdm(n_trees):\n",
    "    \n",
    "    my_model = GradBoost(n_estimators, lr=0.1, max_depth=1, max_features=max_features)\n",
    "    my_model.fit(X_train, y_train)\n",
    "    y_pred = my_model.predict(X_test)\n",
    "    my_loss.append(sklearn.metrics.mean_squared_error(y_test, y_pred))\n",
    "    \n",
    "    y_pred = my_model.predict(X_train)\n",
    "    my_loss_train.append(sklearn.metrics.mean_squared_error(y_train, y_pred))\n",
    "    \n",
    "    model = GradientBoostingRegressor(n_estimators=n_estimators, learning_rate=0.1, max_depth=1, max_features=max_features)\n",
    "    model.fit(X_train, y_train)\n",
    "    y_pred = model.predict(X_test)\n",
    "    loss.append(sklearn.metrics.mean_squared_error(y_test, y_pred))\n",
    "    \n",
    "    y_pred = model.predict(X_train)\n",
    "    loss_train.append(sklearn.metrics.mean_squared_error(y_train, y_pred))"
   ]
  },
  {
   "cell_type": "code",
   "execution_count": 28,
   "metadata": {},
   "outputs": [
    {
     "data": {
      "text/plain": [
       "<matplotlib.legend.Legend at 0x23d93137f48>"
      ]
     },
     "execution_count": 28,
     "metadata": {},
     "output_type": "execute_result"
    },
    {
     "data": {
      "image/png": "[encoded data removed]",
      "text/plain": [
       "<Figure size 432x288 with 1 Axes>"
      ]
     },
     "metadata": {
      "needs_background": "light"
     },
     "output_type": "display_data"
    }
   ],
   "source": [
    "ci = np.multiply(loss, 0.03)\n",
    "\n",
    "fig, ax = plt.subplots()\n",
    "ax.plot(n_trees[:len(my_loss)], my_loss, label='My Gboost')\n",
    "ax.plot(n_trees[:len(loss)], loss, label='Sklearn')\n",
    "\n",
    "ax.fill_between(n_trees[:len(loss)], (loss-ci), (loss+ci), color='r', alpha=.1)\n",
    "plt.xlabel(\"n_estimators\")\n",
    "plt.ylabel(\"MSE\")\n",
    "plt.legend()"
   ]
  },
  {
   "cell_type": "code",
   "execution_count": 29,
   "metadata": {},
   "outputs": [
    {
     "data": {
      "text/plain": [
       "<matplotlib.legend.Legend at 0x23d931e0a48>"
      ]
     },
     "execution_count": 29,
     "metadata": {},
     "output_type": "execute_result"
    },
    {
     "data": {
      "image/png": "[encoded data removed]",
      "text/plain": [
       "<Figure size 432x288 with 1 Axes>"
      ]
     },
     "metadata": {
      "needs_background": "light"
     },
     "output_type": "display_data"
    }
   ],
   "source": [
    "ci = np.multiply(loss, 0.03)\n",
    "\n",
    "fig, ax = plt.subplots()\n",
    "ax.plot(n_trees[:len(my_loss_train)], my_loss_train, label='My Gboost')\n",
    "ax.plot(n_trees[:len(loss_train)], loss_train, label='Sklearn')\n",
    "\n",
    "ax.fill_between(n_trees[:len(loss_train)], (loss_train-ci), (loss_train+ci), color='r', alpha=.1)\n",
    "plt.xlabel(\"n_estimators\")\n",
    "plt.ylabel(\"MSE\")\n",
    "plt.legend()"
   ]
  },
  {
   "cell_type": "markdown",
   "metadata": {},
   "source": [
    "### LinReg over trees"
   ]
  },
  {
   "cell_type": "code",
   "execution_count": 61,
   "metadata": {},
   "outputs": [
    {
     "data": {
      "text/plain": [
       "0.8176607804361677"
      ]
     },
     "execution_count": 61,
     "metadata": {},
     "output_type": "execute_result"
    }
   ],
   "source": [
    "from sklearn.ensemble import GradientBoostingRegressor\n",
    "model = GradientBoostingRegressor(n_estimators=32, learning_rate=0.1, max_depth=1, max_features=15, criterion='mse')\n",
    "model.fit(X_train, y_train)\n",
    "y_pred = model.predict(X_test)\n",
    "sklearn.metrics.mean_squared_error(y_pred, y_test)"
   ]
  },
  {
   "cell_type": "code",
   "execution_count": 62,
   "metadata": {},
   "outputs": [
    {
     "data": {
      "text/plain": [
       "0.831785967137727"
      ]
     },
     "execution_count": 62,
     "metadata": {},
     "output_type": "execute_result"
    }
   ],
   "source": [
    "my_model = GradBoost(32, 0.1, max_depth=1, max_features=15)\n",
    "my_model.fit(X_train, y_train)\n",
    "y_pred = my_model.predict(X_test)\n",
    "sklearn.metrics.mean_squared_error(y_test, y_pred)"
   ]
  },
  {
   "cell_type": "code",
   "execution_count": 63,
   "metadata": {},
   "outputs": [],
   "source": [
    "lr = 0.1\n",
    "def gen_features(X, models_list):\n",
    "    To_regression = []\n",
    "    \n",
    "    Vec_preds = [model.predict(X) for model in models_list]\n",
    "    \n",
    "    for i, Sample in enumerate(X):\n",
    "        Sample = Sample[np.newaxis, ...]\n",
    "        vec_total = []\n",
    "        for model_id in range(len(models_list)):\n",
    "            vec = [0] * models_list[model_id].tree_.node_count\n",
    "            num = models_list[model_id].apply(Sample)[0]\n",
    "            #vec[num] = models_list[model_id].predict(Sample)[0]\n",
    "            vec[num] = Vec_preds[model_id][i]\n",
    "            vec_total += vec\n",
    "        To_regression.append(vec_total)\n",
    "    \n",
    "    return np.array(To_regression)"
   ]
  },
  {
   "cell_type": "code",
   "execution_count": 64,
   "metadata": {},
   "outputs": [],
   "source": [
    "my_reg_features_train = gen_features(X_train, my_model.boosted_models)\n",
    "my_reg_features_test = gen_features(X_test, my_model.boosted_models)"
   ]
  },
  {
   "cell_type": "code",
   "execution_count": 65,
   "metadata": {},
   "outputs": [],
   "source": [
    "reg_features_train = gen_features(X_train, [x[0] for x in model.estimators_])\n",
    "reg_features_test = gen_features(X_test, [x[0] for x in model.estimators_])"
   ]
  },
  {
   "cell_type": "code",
   "execution_count": 66,
   "metadata": {},
   "outputs": [
    {
     "data": {
      "text/plain": [
       "array([0.90643185])"
      ]
     },
     "execution_count": 66,
     "metadata": {},
     "output_type": "execute_result"
    }
   ],
   "source": [
    "my_model.predict(X_test)[0]"
   ]
  },
  {
   "cell_type": "code",
   "execution_count": 67,
   "metadata": {},
   "outputs": [
    {
     "data": {
      "text/plain": [
       "0.9064318542418441"
      ]
     },
     "execution_count": 67,
     "metadata": {},
     "output_type": "execute_result"
    }
   ],
   "source": [
    "my_reg_features_test[0].sum() * lr"
   ]
  },
  {
   "cell_type": "code",
   "execution_count": 68,
   "metadata": {},
   "outputs": [],
   "source": [
    "lin_reg = sklearn.linear_model.LinearRegression().fit(reg_features_train, y_train)\n",
    "y_pred = lin_reg.predict(reg_features_test)"
   ]
  },
  {
   "cell_type": "code",
   "execution_count": 69,
   "metadata": {},
   "outputs": [],
   "source": [
    "my_y_pred = my_reg_features_test @ scipy.linalg.lstsq(my_reg_features_train.astype('float64'), y_train.reshape(-1, 1).astype('float64'))[0]"
   ]
  },
  {
   "cell_type": "code",
   "execution_count": 72,
   "metadata": {},
   "outputs": [
    {
     "name": "stdout",
     "output_type": "stream",
     "text": [
      "0.8262199254273997\n"
     ]
    }
   ],
   "source": [
    "sklearn.metrics.mean_squared_error(y_test, my_y_pred)"
   ]
  },
  {
   "cell_type": "code",
   "execution_count": 73,
   "metadata": {},
   "outputs": [
    {
     "data": {
      "text/plain": [
       "0.8068073455784003"
      ]
     },
     "execution_count": 73,
     "metadata": {},
     "output_type": "execute_result"
    }
   ],
   "source": [
    "sklearn.metrics.mean_squared_error(y_test, y_pred)"
   ]
  },
  {
   "cell_type": "markdown",
   "metadata": {},
   "source": [
    "### Last comparison (whole ensemble)"
   ]
  },
  {
   "cell_type": "code",
   "execution_count": 74,
   "metadata": {},
   "outputs": [
    {
     "data": {
      "application/vnd.jupyter.widget-view+json": {
       "model_id": "bbd5c29b60c5412986f7785111773be0",
       "version_major": 2,
       "version_minor": 0
      },
      "text/plain": [
       "HBox(children=(FloatProgress(value=0.0, max=10.0), HTML(value='')))"
      ]
     },
     "metadata": {},
     "output_type": "display_data"
    },
    {
     "name": "stdout",
     "output_type": "stream",
     "text": [
      "\n"
     ]
    }
   ],
   "source": [
    "import tqdm\n",
    "\n",
    "loss = []\n",
    "my_loss = []\n",
    "\n",
    "loss_train = []\n",
    "my_loss_train = []\n",
    "\n",
    "n_trees = [8, 16, 32, 64, 96, 128, 160, 192, 224, 256]\n",
    "\n",
    "for n_estimators in tqdm.notebook.tqdm(n_trees):\n",
    "    \n",
    "    my_model = GradBoost(n_estimators, lr=0.1, max_depth=1, max_features=15)\n",
    "    my_model.fit(X_train, y_train)\n",
    "    \n",
    "    my_reg_features_train = gen_features(X_train, my_model.boosted_models)\n",
    "    my_reg_features_test = gen_features(X_test, my_model.boosted_models)\n",
    "    \n",
    "    model = GradientBoostingRegressor(n_estimators=n_estimators, learning_rate=0.1, max_depth=1, max_features=15)\n",
    "    model.fit(X_train, y_train)\n",
    "    \n",
    "    reg_features_train = gen_features(X_train, [x[0] for x in model.estimators_])\n",
    "    reg_features_test = gen_features(X_test, [x[0] for x in model.estimators_])\n",
    "    \n",
    "    lin_reg = sklearn.linear_model.LinearRegression().fit(reg_features_train, y_train)\n",
    "    \n",
    "    y_pred = lin_reg.predict(reg_features_test)\n",
    "    my_y_pred = my_reg_features_test @ scipy.linalg.lstsq(my_reg_features_train.astype('float64'), y_train.reshape(-1, 1).astype('float64'))[0]\n",
    "    \n",
    "    my_loss.append(sklearn.metrics.mean_squared_error(y_test, my_y_pred))\n",
    "    loss.append(sklearn.metrics.mean_squared_error(y_test, y_pred))\n",
    "    \n",
    "    y_pred = lin_reg.predict(reg_features_train)\n",
    "    loss_train.append(sklearn.metrics.mean_squared_error(y_train, y_pred))\n",
    "    \n",
    "    my_y_pred = my_reg_features_train @ scipy.linalg.lstsq(my_reg_features_train.astype('float64'), y_train.reshape(-1, 1).astype('float64'))[0]\n",
    "    my_loss_train.append(sklearn.metrics.mean_squared_error(y_train, my_y_pred))"
   ]
  },
  {
   "cell_type": "code",
   "execution_count": 75,
   "metadata": {},
   "outputs": [
    {
     "data": {
      "text/plain": [
       "<matplotlib.legend.Legend at 0x2071d54ec48>"
      ]
     },
     "execution_count": 75,
     "metadata": {},
     "output_type": "execute_result"
    },
    {
     "data": {
      "image/png": "[encoded data removed]",
      "text/plain": [
       "<Figure size 432x288 with 1 Axes>"
      ]
     },
     "metadata": {
      "needs_background": "light"
     },
     "output_type": "display_data"
    }
   ],
   "source": [
    "# Test\n",
    "ci = np.multiply(loss, 0.03)\n",
    "\n",
    "fig, ax = plt.subplots()\n",
    "ax.plot(n_trees, my_loss, label='My LinReg + Gboost')\n",
    "ax.plot(n_trees, loss, label='Sklearn')\n",
    "\n",
    "ax.fill_between(n_trees, (loss-ci), (loss+ci), color='r', alpha=.1)\n",
    "plt.xlabel(\"n_estimators\")\n",
    "plt.ylabel(\"MSE\")\n",
    "plt.legend()"
   ]
  },
  {
   "cell_type": "code",
   "execution_count": 76,
   "metadata": {},
   "outputs": [
    {
     "data": {
      "text/plain": [
       "<matplotlib.legend.Legend at 0x2071d5d33c8>"
      ]
     },
     "execution_count": 76,
     "metadata": {},
     "output_type": "execute_result"
    },
    {
     "data": {
      "image/png": "[encoded data removed]",
      "text/plain": [
       "<Figure size 432x288 with 1 Axes>"
      ]
     },
     "metadata": {
      "needs_background": "light"
     },
     "output_type": "display_data"
    }
   ],
   "source": [
    "# Train\n",
    "ci = np.multiply(loss_train, 0.03)\n",
    "\n",
    "fig, ax = plt.subplots()\n",
    "ax.plot(n_trees, my_loss_train, label='My LinReg + Gboost')\n",
    "ax.plot(n_trees, loss_train, label='Sklearn')\n",
    "\n",
    "ax.fill_between(n_trees, (loss_train-ci), (loss_train+ci), color='r', alpha=.1)\n",
    "plt.xlabel(\"n_estimators\")\n",
    "plt.ylabel(\"MSE\")\n",
    "plt.legend()"
   ]
  },
  {
   "cell_type": "markdown",
   "metadata": {},
   "source": [
    "Регрессия сильно оверфитится?"
   ]
  }
 ],
 "metadata": {
  "kernelspec": {
   "display_name": "Python 3",
   "language": "python",
   "name": "python3"
  },
  "language_info": {
   "codemirror_mode": {
    "name": "ipython",
    "version": 3
   },
   "file_extension": ".py",
   "mimetype": "text/x-python",
   "name": "python",
   "nbconvert_exporter": "python",
   "pygments_lexer": "ipython3",
   "version": "3.7.9"
  }
 },
 "nbformat": 4,
 "nbformat_minor": 4
}
