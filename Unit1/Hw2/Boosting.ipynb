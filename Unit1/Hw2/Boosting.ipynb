{
 "cells": [
  {
   "cell_type": "markdown",
   "metadata": {},
   "source": [
    "### Что необходимо сделать: реализовать один из алгоритмов машинного обучения, являющегося композицией алгоритмов.\n",
    "Москаленко Андрей"
   ]
  },
  {
   "cell_type": "markdown",
   "metadata": {},
   "source": [
    "### Вариант 21"
   ]
  },
  {
   "cell_type": "code",
   "execution_count": 1,
   "metadata": {},
   "outputs": [],
   "source": [
    "import re\n",
    "import numpy as np\n",
    "import cupy as cp\n",
    "import scipy\n",
    "import pandas as pd\n",
    "import matplotlib.pyplot as plt\n",
    "import sklearn.metrics"
   ]
  },
  {
   "cell_type": "code",
   "execution_count": 2,
   "metadata": {},
   "outputs": [],
   "source": [
    "import tqdm.notebook\n",
    "from joblib import Parallel, delayed"
   ]
  },
  {
   "cell_type": "code",
   "execution_count": 3,
   "metadata": {},
   "outputs": [],
   "source": [
    "lines = []\n",
    "with open('./reg.train.txt', 'r') as f:\n",
    "    lines = f.readlines()\n",
    "lines = list(map(lambda x: re.split(':| ', x.strip()), lines))\n",
    "X_train = np.full((7200, 245), 0.0)\n",
    "y_train = np.zeros((7200))\n",
    "for i in range(len(lines)):\n",
    "    y_train[i] = float(lines[i][0])\n",
    "    for j in range(1, len(lines[i]), 2):\n",
    "        X_train[i, int(lines[i][j]) - 1] = float(lines[i][j + 1])\n",
    "X_train = np.nan_to_num(X_train)"
   ]
  },
  {
   "cell_type": "code",
   "execution_count": 4,
   "metadata": {},
   "outputs": [],
   "source": [
    "lines = []\n",
    "with open('./reg.test.txt', 'r') as f:\n",
    "    lines = f.readlines()\n",
    "lines = list(map(lambda x: re.split(':| ', x.strip()), lines))\n",
    "X_test = np.full((10050, 245), 0.0)\n",
    "y_test = np.zeros((10050))\n",
    "for i in range(len(lines)):\n",
    "    y_test[i] = float(lines[i][0])\n",
    "    for j in range(1, len(lines[i]), 2):\n",
    "        X_test[i, int(lines[i][j]) - 1] = float(lines[i][j + 1])\n",
    "X_test = np.nan_to_num(X_test)"
   ]
  },
  {
   "cell_type": "code",
   "execution_count": 5,
   "metadata": {},
   "outputs": [],
   "source": [
    "path_index = -1\n",
    "\n",
    "class Node:\n",
    "    def __init__(self, x, y, idxs, min_leaf=5, depth=4, max_features=999):\n",
    "        global path_index\n",
    "        path_index += 1\n",
    "        self.path_index = path_index\n",
    "        self.depth=depth\n",
    "        self.x = x\n",
    "        self.y = y\n",
    "        self.idxs = idxs\n",
    "        self.y_idx = y[self.idxs]\n",
    "        self.min_leaf = min_leaf\n",
    "        self.row_count = len(idxs)\n",
    "        self.col_count = x.shape[1]\n",
    "        self.val = np.mean(y[idxs])\n",
    "        self.score = float('inf')\n",
    "        self.max_features = max_features\n",
    "        self.find_varsplit()\n",
    "\n",
    "    def find_varsplit(self):\n",
    "        if self.depth != 0:\n",
    "            while True:\n",
    "                random_features = np.random.choice(list(range(self.col_count)), self.max_features)\n",
    "                splits = Parallel(n_jobs=16)(delayed(self.find_better_split)(c) for c in random_features)\n",
    "                splits = np.array(splits)\n",
    "                best_id = np.argsort(splits[:, 0])[0]\n",
    "                self.score = splits[best_id][0]\n",
    "                if not self.is_leaf:\n",
    "                    break\n",
    "            self.split = splits[best_id][1]\n",
    "            self.var_idx = int(splits[best_id][2])\n",
    "            if self.is_leaf:\n",
    "                return\n",
    "            x = self.x[self.idxs, self.var_idx]\n",
    "            lhs = np.nonzero(x <= self.split)[0]\n",
    "            rhs = np.nonzero(x > self.split)[0]\n",
    "            self.lhs = Node(self.x, self.y, self.idxs[lhs], self.min_leaf, self.depth - 1, self.max_features)\n",
    "            self.rhs = Node(self.x, self.y, self.idxs[rhs], self.min_leaf, self.depth - 1, self.max_features)\n",
    "\n",
    "    def find_better_split(self, var_idx):\n",
    "        x = self.x[self.idxs, var_idx]\n",
    "        best_score = 99999999999999\n",
    "        best_split = 0\n",
    "        for r in range(self.row_count):\n",
    "            lhs = x <= x[r]\n",
    "            rhs = x > x[r]\n",
    "            if rhs.sum() < self.min_leaf or lhs.sum() < self.min_leaf: \n",
    "                continue\n",
    "            curr_score = self.find_score(lhs, rhs)\n",
    "            if curr_score < best_score:\n",
    "                best_score = curr_score\n",
    "                best_split = x[r]\n",
    "        return [best_score, best_split, var_idx]\n",
    "\n",
    "    def find_score(self, lhs, rhs):\n",
    "        return ((self.y_idx[lhs] - self.y_idx[lhs].mean()) ** 2).sum() + \\\n",
    "               ((self.y_idx[rhs] - self.y_idx[rhs].mean()) ** 2).sum()\n",
    "\n",
    "    @property\n",
    "    def is_leaf(self): \n",
    "        return self.score == float('inf')\n",
    "    \n",
    "    def predict(self, x):\n",
    "        return np.array([self.predict_row(xi) for xi in x])\n",
    "    def predict_row(self, xi):\n",
    "        if self.is_leaf:\n",
    "            return self.val\n",
    "        node = self.lhs if xi[self.var_idx] <= self.split else self.rhs\n",
    "        return node.predict_row(xi)\n",
    "\n",
    "    def apply(self, x):\n",
    "        return np.array([self.apply_row(xi) for xi in x])\n",
    "    def apply_row(self, xi):\n",
    "        if self.is_leaf:\n",
    "            return self.path_index\n",
    "        node = self.lhs if xi[self.var_idx] <= self.split else self.rhs\n",
    "        return node.apply_row(xi)"
   ]
  },
  {
   "cell_type": "code",
   "execution_count": 6,
   "metadata": {},
   "outputs": [],
   "source": [
    "class MyDecisionTreeRegressor:\n",
    "    def __init__(self, min_samples_leaf=5, max_depth=4, max_features=16):\n",
    "        global path_index\n",
    "        path_index = -1\n",
    "        self.min_leaf = min_samples_leaf\n",
    "        self.max_depth = max_depth\n",
    "        self.max_features = max_features\n",
    "    def fit(self, X, y):\n",
    "        self.tree_ = Node(X, y, np.array(np.arange(len(y))), self.min_leaf, self.max_depth, self.max_features)\n",
    "        self.tree_.node_count = 2 ** (self.max_depth + 1) - 1\n",
    "        return self\n",
    "\n",
    "    def apply(self, X):\n",
    "        return self.tree_.apply(X)\n",
    "    \n",
    "    def predict(self, X):\n",
    "        return self.tree_.predict(X)"
   ]
  },
  {
   "cell_type": "code",
   "execution_count": 7,
   "metadata": {},
   "outputs": [],
   "source": [
    "my_model = MyDecisionTreeRegressor(max_depth=4, min_samples_leaf=5, max_features=16)"
   ]
  },
  {
   "cell_type": "code",
   "execution_count": 8,
   "metadata": {},
   "outputs": [
    {
     "data": {
      "text/plain": [
       "0.7847847214969169"
      ]
     },
     "execution_count": 8,
     "metadata": {},
     "output_type": "execute_result"
    }
   ],
   "source": [
    "my_model.fit(X_train, y_train)\n",
    "y_pred = my_model.predict(X_test)\n",
    "sklearn.metrics.mean_squared_error(y_test, y_pred)"
   ]
  },
  {
   "cell_type": "markdown",
   "metadata": {},
   "source": [
    "### Hand-written gradient boosting"
   ]
  },
  {
   "cell_type": "code",
   "execution_count": 9,
   "metadata": {},
   "outputs": [],
   "source": [
    "from sklearn.tree import DecisionTreeRegressor\n",
    "\n",
    "class GradBoost():\n",
    "    def __init__(self, n_trees=1, lr=0.1, min_samples_leaf=5, max_depth=4, max_features=16):\n",
    "        self.n_trees = n_trees\n",
    "        self.lr = lr\n",
    "        self.min_samples_leaf = min_samples_leaf\n",
    "        self.max_depth = max_depth\n",
    "        self.max_features = max_features\n",
    "\n",
    "    def fit(self,X,y):\n",
    "        y = y.reshape(-1, 1)\n",
    "        self.X=X\n",
    "        self.y=y\n",
    "        self.boosted_models = []\n",
    "\n",
    "        self.mean = np.mean(y)\n",
    "        ensemble_pred = np.ones(len(y)) * self.mean\n",
    "        \n",
    "        for i in range(self.n_trees):\n",
    "            model = MyDecisionTreeRegressor(\n",
    "                min_samples_leaf=self.min_samples_leaf, max_depth=self.max_depth, max_features=self.max_features)\n",
    "            residuals = np.sum([y, -ensemble_pred.reshape(-1,1)], axis=0)\n",
    "            model.fit(X, residuals)\n",
    "            self.boosted_models.append(model)\n",
    "            ensemble_pred = np.sum([ensemble_pred, self.lr * model.predict(X)], axis=0)\n",
    "\n",
    "    def predict(self, X_test):\n",
    "        pred = np.ones(X_test.shape[0]) * self.mean\n",
    "        for model in self.boosted_models:\n",
    "            pred = pred + self.lr * model.predict(X_test)\n",
    "        return pred.reshape(-1, 1)"
   ]
  },
  {
   "cell_type": "code",
   "execution_count": 10,
   "metadata": {},
   "outputs": [
    {
     "data": {
      "application/vnd.jupyter.widget-view+json": {
       "model_id": "862321f586864af290ab21ee9dc03e51",
       "version_major": 2,
       "version_minor": 0
      },
      "text/plain": [
       "HBox(children=(FloatProgress(value=0.0, max=10.0), HTML(value='')))"
      ]
     },
     "metadata": {},
     "output_type": "display_data"
    },
    {
     "name": "stdout",
     "output_type": "stream",
     "text": [
      "\n"
     ]
    }
   ],
   "source": [
    "from sklearn.ensemble import GradientBoostingRegressor\n",
    "\n",
    "loss = []\n",
    "my_loss = []\n",
    "n_trees = [8, 16, 32, 64, 96, 128, 160, 192, 224, 256]\n",
    "max_features = int(np.sqrt(X_train.shape[1]))\n",
    "\n",
    "loss_train = []\n",
    "my_loss_train = []\n",
    "\n",
    "\n",
    "for n_estimators in tqdm.notebook.tqdm(n_trees):\n",
    "    my_model = GradBoost(n_estimators, lr=0.1, max_depth=4, min_samples_leaf=5, max_features=max_features)\n",
    "    my_model.fit(X_train, y_train)\n",
    "    y_pred = my_model.predict(X_test)\n",
    "    my_loss.append(sklearn.metrics.mean_squared_error(y_test, y_pred))\n",
    "    \n",
    "    y_pred = my_model.predict(X_train)\n",
    "    my_loss_train.append(sklearn.metrics.mean_squared_error(y_train, y_pred))\n",
    "    \n",
    "    model = GradientBoostingRegressor(\n",
    "        n_estimators=n_estimators, learning_rate=0.1, max_depth=4, criterion='mse', min_samples_leaf=5, max_features=max_features)\n",
    "    \n",
    "    model.fit(X_train, y_train)\n",
    "    y_pred = model.predict(X_test)\n",
    "    loss.append(sklearn.metrics.mean_squared_error(y_test, y_pred))\n",
    "    \n",
    "    y_pred = model.predict(X_train)\n",
    "    loss_train.append(sklearn.metrics.mean_squared_error(y_train, y_pred))"
   ]
  },
  {
   "cell_type": "code",
   "execution_count": 11,
   "metadata": {},
   "outputs": [
    {
     "data": {
      "text/plain": [
       "<matplotlib.legend.Legend at 0x16866273288>"
      ]
     },
     "execution_count": 11,
     "metadata": {},
     "output_type": "execute_result"
    },
    {
     "data": {
      "image/png": "[encoded data removed]",
      "text/plain": [
       "<Figure size 432x288 with 1 Axes>"
      ]
     },
     "metadata": {
      "needs_background": "light"
     },
     "output_type": "display_data"
    }
   ],
   "source": [
    "### Test\n",
    "ci = np.multiply(loss, 0.03)\n",
    "\n",
    "fig, ax = plt.subplots()\n",
    "ax.plot(n_trees[:len(my_loss)], my_loss, label='My Gboost')\n",
    "ax.plot(n_trees[:len(loss)], loss, label='Sklearn')\n",
    "\n",
    "ax.fill_between(n_trees[:len(loss)], (loss-ci), (loss+ci), color='r', alpha=.1)\n",
    "plt.xlabel(\"n_estimators\")\n",
    "plt.ylabel(\"MSE\")\n",
    "plt.legend()"
   ]
  },
  {
   "cell_type": "code",
   "execution_count": 12,
   "metadata": {},
   "outputs": [
    {
     "data": {
      "text/plain": [
       "<matplotlib.legend.Legend at 0x1ea367a9f48>"
      ]
     },
     "execution_count": 12,
     "metadata": {},
     "output_type": "execute_result"
    },
    {
     "data": {
      "image/png": "[encoded data removed]",
      "text/plain": [
       "<Figure size 432x288 with 1 Axes>"
      ]
     },
     "metadata": {
      "needs_background": "light"
     },
     "output_type": "display_data"
    }
   ],
   "source": [
    "### Train\n",
    "ci = np.multiply(loss, 0.03)\n",
    "\n",
    "fig, ax = plt.subplots()\n",
    "ax.plot(n_trees[:len(my_loss_train)], my_loss_train, label='My Gboost')\n",
    "ax.plot(n_trees[:len(loss_train)], loss_train, label='Sklearn')\n",
    "\n",
    "ax.fill_between(n_trees[:len(loss_train)], (loss_train-ci), (loss_train+ci), color='r', alpha=.1)\n",
    "plt.xlabel(\"n_estimators\")\n",
    "plt.ylabel(\"MSE\")\n",
    "plt.legend()"
   ]
  },
  {
   "cell_type": "markdown",
   "metadata": {},
   "source": [
    "### LinReg over trees"
   ]
  },
  {
   "cell_type": "code",
   "execution_count": 13,
   "metadata": {},
   "outputs": [],
   "source": [
    "import sklearn.utils\n",
    "def batch_generator(X, y, shuffle=True, batch_size=1):\n",
    "    if shuffle:\n",
    "        X, y = sklearn.utils.shuffle(X, y)\n",
    "    else:\n",
    "        X, y = X.copy(), y.copy()\n",
    "    for i in range((len(X) - batch_size) // batch_size):\n",
    "        X_batch = X[i * batch_size : (i + 1) * batch_size]\n",
    "        y_batch = y[i * batch_size : (i + 1) * batch_size]\n",
    "        yield (X_batch, y_batch)"
   ]
  },
  {
   "cell_type": "code",
   "execution_count": 14,
   "metadata": {},
   "outputs": [],
   "source": [
    "### Regressor from 1st semestr\n",
    "### https://github.com/a-mos/ML19/blob/master/hw2/moskalenko_hw2.ipynb\n",
    "\n",
    "from sklearn.base import BaseEstimator, RegressorMixin\n",
    "\n",
    "class MySGDRegressor(BaseEstimator, RegressorMixin):\n",
    "\n",
    "    def __init__(self, batch_generator, C=100,\n",
    "                 alpha=0.01, max_epoch=10):\n",
    "        self.C = C\n",
    "        self.alpha = alpha\n",
    "        self.max_epoch = max_epoch\n",
    "        self.batch_generator = batch_generator\n",
    "        self.errors_log = {'iter' : [], 'loss' : []}  \n",
    "\n",
    "    def calc_loss(self, X_batch, y_batch):\n",
    "        loss = np.mean((y_batch - self.__predict(X_batch)) ** 2) +\\\n",
    "                np.dot(self.weights, self.weights) / self.C\n",
    "        return loss\n",
    "\n",
    "    def calc_loss_grad(self, X_batch, y_batch):\n",
    "        grad = np.zeros(X_batch.shape[1])\n",
    "        for i in range(self.batch_size):\n",
    "            grad += (self.__predict(X_batch[i]) - y_batch[i]) * X_batch[i]\n",
    "        loss_grad = 2 * grad / self.batch_size + 2 * self.weights / self.C\n",
    "\n",
    "        return loss_grad\n",
    "\n",
    "    def update_weights(self, new_grad):\n",
    "        self.weights -= self.alpha * new_grad\n",
    "\n",
    "    def fit(self, X, y, batch_size=10):\n",
    "        X = np.hstack((X, np.ones((X.shape[0], 1)))).astype(np.longdouble)\n",
    "        np.random.seed(1337)\n",
    "        self.weights = np.random.normal(size = X.shape[1]).astype(np.longdouble)\n",
    "        self.batch_size = batch_size\n",
    "        for n in tqdm.notebook.tqdm(range(self.max_epoch)):\n",
    "            new_epoch_generator = self.batch_generator(X, y, batch_size=batch_size)\n",
    "            for batch_num, new_batch in enumerate(new_epoch_generator):\n",
    "                X_batch = new_batch[0]\n",
    "                y_batch = new_batch[1]            \n",
    "                batch_grad = self.calc_loss_grad(X_batch, y_batch)\n",
    "                self.update_weights(batch_grad)\n",
    "                batch_loss = self.calc_loss(X_batch, y_batch)\n",
    "                self.errors_log['iter'].append(batch_num)\n",
    "                self.errors_log['loss'].append(batch_loss)\n",
    "        return self\n",
    "\n",
    "    def __predict(self, X):\n",
    "        y_hat = X @ self.weights\n",
    "        return y_hat\n",
    "\n",
    "    def predict(self, X):\n",
    "        X = np.hstack((X, np.ones((X.shape[0], 1)))).astype(np.longdouble)\n",
    "        y_hat = X @ self.weights\n",
    "        return y_hat"
   ]
  },
  {
   "cell_type": "code",
   "execution_count": 15,
   "metadata": {},
   "outputs": [
    {
     "data": {
      "text/plain": [
       "0.7597578930945365"
      ]
     },
     "execution_count": 15,
     "metadata": {},
     "output_type": "execute_result"
    }
   ],
   "source": [
    "from sklearn.ensemble import GradientBoostingRegressor\n",
    "model = GradientBoostingRegressor(\n",
    "    n_estimators=256, learning_rate=0.1, max_depth=4, criterion='mse', min_samples_leaf=5, max_features=16)\n",
    "model.fit(X_train, y_train)\n",
    "y_pred = model.predict(X_test)\n",
    "sklearn.metrics.mean_squared_error(y_pred, y_test)"
   ]
  },
  {
   "cell_type": "code",
   "execution_count": 16,
   "metadata": {},
   "outputs": [
    {
     "data": {
      "text/plain": [
       "0.7646725933324832"
      ]
     },
     "execution_count": 16,
     "metadata": {},
     "output_type": "execute_result"
    }
   ],
   "source": [
    "my_model = GradBoost(256, 0.1, max_depth=4, min_samples_leaf=5, max_features=16)\n",
    "my_model.fit(X_train, y_train)\n",
    "y_pred = my_model.predict(X_test)\n",
    "sklearn.metrics.mean_squared_error(y_test, y_pred)"
   ]
  },
  {
   "cell_type": "code",
   "execution_count": 17,
   "metadata": {},
   "outputs": [],
   "source": [
    "path_index = -1\n",
    "def gen_features(X, models_list):\n",
    "    To_regression = []\n",
    "    \n",
    "    Vec_preds = [model.predict(X) for model in models_list]\n",
    "    \n",
    "    for i, Sample in enumerate(X):\n",
    "        Sample = Sample[np.newaxis, ...]\n",
    "        vec_total = []\n",
    "        for model_id in range(len(models_list)):\n",
    "            vec = [0] * models_list[model_id].tree_.node_count\n",
    "            num = models_list[model_id].apply(Sample)[0]\n",
    "            #vec[num] = models_list[model_id].predict(Sample)[0]\n",
    "            vec[num] = Vec_preds[model_id][i]\n",
    "            vec_total += vec\n",
    "        To_regression.append(vec_total)\n",
    "\n",
    "    return np.array(To_regression)"
   ]
  },
  {
   "cell_type": "code",
   "execution_count": 18,
   "metadata": {},
   "outputs": [],
   "source": [
    "my_reg_features_train = gen_features(X_train, my_model.boosted_models)\n",
    "idx = np.argwhere(np.all(my_reg_features_train[..., :] == 0.0, axis=0))\n",
    "my_reg_features_train = np.delete(my_reg_features_train, idx, axis=1)\n",
    "my_reg_features_test = gen_features(X_test, my_model.boosted_models)\n",
    "my_reg_features_test = np.delete(my_reg_features_test, idx, axis=1)"
   ]
  },
  {
   "cell_type": "code",
   "execution_count": 19,
   "metadata": {},
   "outputs": [],
   "source": [
    "reg_features_train = gen_features(X_train, [x[0] for x in model.estimators_])\n",
    "idx = np.argwhere(np.all(reg_features_train[..., :] == 0.0, axis=0))\n",
    "reg_features_train = np.delete(reg_features_train, idx, axis=1)\n",
    "reg_features_test = gen_features(X_test, [x[0] for x in model.estimators_])\n",
    "reg_features_test = np.delete(reg_features_test, idx, axis=1)"
   ]
  },
  {
   "cell_type": "code",
   "execution_count": 38,
   "metadata": {},
   "outputs": [
    {
     "name": "stderr",
     "output_type": "stream",
     "text": [
      "C:\\Users\\andry\\Anaconda3\\envs\\subjectify\\lib\\site-packages\\ipykernel_launcher.py:4: TqdmDeprecationWarning: This function will be removed in tqdm==5.0.0\n",
      "Please use `tqdm.notebook.tqdm` instead of `tqdm.tqdm_notebook`\n",
      "  after removing the cwd from sys.path.\n"
     ]
    },
    {
     "data": {
      "application/vnd.jupyter.widget-view+json": {
       "model_id": "4c304a7b8c3a4448b36aec8fc81e134f",
       "version_major": 2,
       "version_minor": 0
      },
      "text/plain": [
       "HBox(children=(FloatProgress(value=0.0), HTML(value='')))"
      ]
     },
     "metadata": {},
     "output_type": "display_data"
    },
    {
     "name": "stdout",
     "output_type": "stream",
     "text": [
      "\n"
     ]
    },
    {
     "data": {
      "text/plain": [
       "0.7597998370696183"
      ]
     },
     "execution_count": 38,
     "metadata": {},
     "output_type": "execute_result"
    }
   ],
   "source": [
    "lin_reg = sklearn.linear_model.SGDRegressor(learning_rate = 'constant', alpha = 0.01, eta0 = 0.01, shuffle=True)\n",
    "for epoch in tqdm.tqdm_notebook(range(100)):\n",
    "    gen = batch_generator(reg_features_train, y_train, batch_size=10)\n",
    "    for X_batch, y_batch in gen:\n",
    "        lin_reg.partial_fit(X_batch, y_batch)\n",
    "lin_reg = lin_reg.predict(reg_features_test)\n",
    "sklearn.metrics.mean_squared_error(y_test, lin_reg)"
   ]
  },
  {
   "cell_type": "code",
   "execution_count": 39,
   "metadata": {},
   "outputs": [
    {
     "data": {
      "application/vnd.jupyter.widget-view+json": {
       "model_id": "2cda3d1b891a4240ae224c896162eb5a",
       "version_major": 2,
       "version_minor": 0
      },
      "text/plain": [
       "HBox(children=(FloatProgress(value=0.0), HTML(value='')))"
      ]
     },
     "metadata": {},
     "output_type": "display_data"
    },
    {
     "name": "stdout",
     "output_type": "stream",
     "text": [
      "\n"
     ]
    },
    {
     "data": {
      "text/plain": [
       "0.7622772100614364"
      ]
     },
     "execution_count": 39,
     "metadata": {},
     "output_type": "execute_result"
    }
   ],
   "source": [
    "### Custom SGD\n",
    "model_lin = MySGDRegressor(batch_generator, alpha=0.01, max_epoch=100, C=100)\n",
    "my_y_pred = model_lin.fit(my_reg_features_train, y_train, batch_size=10).predict(my_reg_features_test)\n",
    "sklearn.metrics.mean_squared_error(y_test, my_y_pred)"
   ]
  },
  {
   "cell_type": "markdown",
   "metadata": {},
   "source": [
    "### Last comparison (whole ensemble)"
   ]
  },
  {
   "cell_type": "code",
   "execution_count": 40,
   "metadata": {},
   "outputs": [
    {
     "data": {
      "application/vnd.jupyter.widget-view+json": {
       "model_id": "6a598707bbfc48ae954aafeb98ec69e7",
       "version_major": 2,
       "version_minor": 0
      },
      "text/plain": [
       "HBox(children=(FloatProgress(value=0.0, max=10.0), HTML(value='')))"
      ]
     },
     "metadata": {},
     "output_type": "display_data"
    },
    {
     "data": {
      "application/vnd.jupyter.widget-view+json": {
       "model_id": "1fc9df6dd33048269bda249ddde77a1a",
       "version_major": 2,
       "version_minor": 0
      },
      "text/plain": [
       "HBox(children=(FloatProgress(value=0.0), HTML(value='')))"
      ]
     },
     "metadata": {},
     "output_type": "display_data"
    },
    {
     "name": "stdout",
     "output_type": "stream",
     "text": [
      "\n"
     ]
    },
    {
     "data": {
      "application/vnd.jupyter.widget-view+json": {
       "model_id": "e05626e0af054937a8ae819eb805797a",
       "version_major": 2,
       "version_minor": 0
      },
      "text/plain": [
       "HBox(children=(FloatProgress(value=0.0), HTML(value='')))"
      ]
     },
     "metadata": {},
     "output_type": "display_data"
    },
    {
     "name": "stdout",
     "output_type": "stream",
     "text": [
      "\n"
     ]
    },
    {
     "data": {
      "application/vnd.jupyter.widget-view+json": {
       "model_id": "70d3f22108044ebcb6f7e701079063c0",
       "version_major": 2,
       "version_minor": 0
      },
      "text/plain": [
       "HBox(children=(FloatProgress(value=0.0), HTML(value='')))"
      ]
     },
     "metadata": {},
     "output_type": "display_data"
    },
    {
     "name": "stdout",
     "output_type": "stream",
     "text": [
      "\n"
     ]
    },
    {
     "data": {
      "application/vnd.jupyter.widget-view+json": {
       "model_id": "ccd7501d59b946d4bf020dc6eb714406",
       "version_major": 2,
       "version_minor": 0
      },
      "text/plain": [
       "HBox(children=(FloatProgress(value=0.0), HTML(value='')))"
      ]
     },
     "metadata": {},
     "output_type": "display_data"
    },
    {
     "name": "stdout",
     "output_type": "stream",
     "text": [
      "\n"
     ]
    },
    {
     "data": {
      "application/vnd.jupyter.widget-view+json": {
       "model_id": "47ad72aa2d7049bbb79e5e0b1ad8132c",
       "version_major": 2,
       "version_minor": 0
      },
      "text/plain": [
       "HBox(children=(FloatProgress(value=0.0), HTML(value='')))"
      ]
     },
     "metadata": {},
     "output_type": "display_data"
    },
    {
     "name": "stdout",
     "output_type": "stream",
     "text": [
      "\n"
     ]
    },
    {
     "data": {
      "application/vnd.jupyter.widget-view+json": {
       "model_id": "777a93e0a4974c43942d0bcc9700fc78",
       "version_major": 2,
       "version_minor": 0
      },
      "text/plain": [
       "HBox(children=(FloatProgress(value=0.0), HTML(value='')))"
      ]
     },
     "metadata": {},
     "output_type": "display_data"
    },
    {
     "name": "stdout",
     "output_type": "stream",
     "text": [
      "\n"
     ]
    },
    {
     "data": {
      "application/vnd.jupyter.widget-view+json": {
       "model_id": "fa44f5313cf4463caed72c269c2e2279",
       "version_major": 2,
       "version_minor": 0
      },
      "text/plain": [
       "HBox(children=(FloatProgress(value=0.0), HTML(value='')))"
      ]
     },
     "metadata": {},
     "output_type": "display_data"
    },
    {
     "name": "stdout",
     "output_type": "stream",
     "text": [
      "\n"
     ]
    },
    {
     "data": {
      "application/vnd.jupyter.widget-view+json": {
       "model_id": "6ddb6687425c4b1792fc16cc3d37a232",
       "version_major": 2,
       "version_minor": 0
      },
      "text/plain": [
       "HBox(children=(FloatProgress(value=0.0), HTML(value='')))"
      ]
     },
     "metadata": {},
     "output_type": "display_data"
    },
    {
     "name": "stdout",
     "output_type": "stream",
     "text": [
      "\n"
     ]
    },
    {
     "data": {
      "application/vnd.jupyter.widget-view+json": {
       "model_id": "9faf6e5ecadd4eb3b375411c94ba7e43",
       "version_major": 2,
       "version_minor": 0
      },
      "text/plain": [
       "HBox(children=(FloatProgress(value=0.0), HTML(value='')))"
      ]
     },
     "metadata": {},
     "output_type": "display_data"
    },
    {
     "name": "stdout",
     "output_type": "stream",
     "text": [
      "\n"
     ]
    },
    {
     "data": {
      "application/vnd.jupyter.widget-view+json": {
       "model_id": "58cefb90fe3b470db83eae987f81d326",
       "version_major": 2,
       "version_minor": 0
      },
      "text/plain": [
       "HBox(children=(FloatProgress(value=0.0), HTML(value='')))"
      ]
     },
     "metadata": {},
     "output_type": "display_data"
    },
    {
     "name": "stdout",
     "output_type": "stream",
     "text": [
      "\n",
      "\n"
     ]
    }
   ],
   "source": [
    "import tqdm\n",
    "max_features = int(np.sqrt(X_train.shape[1]))\n",
    "\n",
    "loss = []\n",
    "my_loss = []\n",
    "\n",
    "loss_train = []\n",
    "my_loss_train = []\n",
    "\n",
    "n_trees = [8, 16, 32, 64, 96, 128, 160, 192, 224, 256]\n",
    "\n",
    "for n_estimators in tqdm.notebook.tqdm(n_trees):\n",
    "    global path_index\n",
    "    path_index = -1\n",
    "    my_model = GradBoost(n_estimators, lr=0.1, max_depth=4, min_samples_leaf=5, max_features=max_features)\n",
    "    my_model.fit(X_train, y_train)\n",
    "    \n",
    "    my_reg_features_train = gen_features(X_train, my_model.boosted_models)\n",
    "    idx = np.argwhere(np.all(my_reg_features_train[..., :] == 0.0, axis=0))\n",
    "    my_reg_features_train = np.delete(my_reg_features_train, idx, axis=1)\n",
    "    my_reg_features_test = gen_features(X_test, my_model.boosted_models)\n",
    "    my_reg_features_test = np.delete(my_reg_features_test, idx, axis=1)\n",
    "    \n",
    "    model = GradientBoostingRegressor(\n",
    "        n_estimators=n_estimators, learning_rate=0.1, max_depth=4, criterion='mse', min_samples_leaf=5, max_features=max_features)\n",
    "    model.fit(X_train, y_train)\n",
    "    \n",
    "    reg_features_train = gen_features(X_train, [x[0] for x in model.estimators_])\n",
    "    idx = np.argwhere(np.all(reg_features_train[..., :] == 0.0, axis=0))\n",
    "    reg_features_train = np.delete(reg_features_train, idx, axis=1)\n",
    "    reg_features_test = gen_features(X_test, [x[0] for x in model.estimators_])\n",
    "    reg_features_test = np.delete(reg_features_test, idx, axis=1)\n",
    "    \n",
    "    ### Sklearn mini-batch linear model\n",
    "    lin_reg = sklearn.linear_model.SGDRegressor(learning_rate = 'constant', alpha = 0.01, eta0 = 0.01, shuffle=True)\n",
    "    for epoch in range(100):\n",
    "        gen = batch_generator(reg_features_train, y_train, batch_size=10)\n",
    "        for X_batch, y_batch in gen:\n",
    "            lin_reg.partial_fit(X_batch, y_batch)\n",
    "    \n",
    "    y_pred = lin_reg.predict(reg_features_test)\n",
    "    loss.append(sklearn.metrics.mean_squared_error(y_test, y_pred))\n",
    "    y_pred = lin_reg.predict(reg_features_train)\n",
    "    loss_train.append(sklearn.metrics.mean_squared_error(y_train, y_pred))\n",
    "    \n",
    "    ### Custom mini-batch linear model\n",
    "    model_lin = MySGDRegressor(\n",
    "        batch_generator, alpha=0.01, max_epoch=100, C=100).fit(my_reg_features_train, y_train, batch_size=10)\n",
    "    \n",
    "    my_y_pred = model_lin.predict(my_reg_features_test)\n",
    "    my_loss.append(sklearn.metrics.mean_squared_error(y_test, my_y_pred))\n",
    "    \n",
    "    my_y_pred = model_lin.predict(my_reg_features_train)\n",
    "    my_loss_train.append(sklearn.metrics.mean_squared_error(y_train, my_y_pred))"
   ]
  },
  {
   "cell_type": "code",
   "execution_count": 41,
   "metadata": {},
   "outputs": [
    {
     "data": {
      "text/plain": [
       "<matplotlib.legend.Legend at 0x1ea4092d5c8>"
      ]
     },
     "execution_count": 41,
     "metadata": {},
     "output_type": "execute_result"
    },
    {
     "data": {
      "image/png": "[encoded data removed]",
      "text/plain": [
       "<Figure size 432x288 with 1 Axes>"
      ]
     },
     "metadata": {
      "needs_background": "light"
     },
     "output_type": "display_data"
    }
   ],
   "source": [
    "# Test\n",
    "ci = np.multiply(loss, 0.03)\n",
    "\n",
    "fig, ax = plt.subplots()\n",
    "ax.plot(n_trees, my_loss, label='My LinReg + Gboost')\n",
    "ax.plot(n_trees, loss, label='Sklearn')\n",
    "\n",
    "ax.fill_between(n_trees, (loss-ci), (loss+ci), color='r', alpha=.1)\n",
    "plt.xlabel(\"n_estimators\")\n",
    "plt.ylabel(\"MSE\")\n",
    "plt.legend()"
   ]
  },
  {
   "cell_type": "code",
   "execution_count": 42,
   "metadata": {},
   "outputs": [
    {
     "data": {
      "text/plain": [
       "<matplotlib.legend.Legend at 0x1ea4651a5c8>"
      ]
     },
     "execution_count": 42,
     "metadata": {},
     "output_type": "execute_result"
    },
    {
     "data": {
      "image/png": "[encoded data removed]",
      "text/plain": [
       "<Figure size 432x288 with 1 Axes>"
      ]
     },
     "metadata": {
      "needs_background": "light"
     },
     "output_type": "display_data"
    }
   ],
   "source": [
    "# Train\n",
    "ci = np.multiply(loss_train, 0.03)\n",
    "\n",
    "fig, ax = plt.subplots()\n",
    "ax.plot(n_trees, my_loss_train, label='My LinReg + Gboost')\n",
    "ax.plot(n_trees, loss_train, label='Sklearn')\n",
    "\n",
    "ax.fill_between(n_trees, (loss_train-ci), (loss_train+ci), color='r', alpha=.1)\n",
    "plt.xlabel(\"n_estimators\")\n",
    "plt.ylabel(\"MSE\")\n",
    "plt.legend()"
   ]
  },
  {
   "cell_type": "markdown",
   "metadata": {},
   "source": [
    "С мини-батчами и регуляризацией overfit-а нет, но прирост над бустингом либо очень незначительный (в втором знаке), либо наоборот незначительное ухудшение. Если убрать регуляризацию, то сильно переобучается даже на мини-батчах."
   ]
  }
 ],
 "metadata": {
  "kernelspec": {
   "display_name": "Python 3",
   "language": "python",
   "name": "python3"
  },
  "language_info": {
   "codemirror_mode": {
    "name": "ipython",
    "version": 3
   },
   "file_extension": ".py",
   "mimetype": "text/x-python",
   "name": "python",
   "nbconvert_exporter": "python",
   "pygments_lexer": "ipython3",
   "version": "3.7.9"
  }
 },
 "nbformat": 4,
 "nbformat_minor": 4
}
